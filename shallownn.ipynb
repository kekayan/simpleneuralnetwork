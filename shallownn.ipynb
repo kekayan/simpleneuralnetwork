{
  "nbformat": 4,
  "nbformat_minor": 0,
  "metadata": {
    "colab": {
      "name": "shallownn.ipynb",
      "version": "0.3.2",
      "provenance": []
    },
    "kernelspec": {
      "name": "python3",
      "display_name": "Python 3"
    },
    "accelerator": "GPU"
  },
  "cells": [
    {
      "cell_type": "markdown",
      "metadata": {
        "id": "view-in-github",
        "colab_type": "text"
      },
      "source": [
        "[View in Colaboratory](https://colab.research.google.com/github/kekayan/simpleneuralnetwork/blob/master/shallownn.ipynb)"
      ]
    },
    {
      "metadata": {
        "id": "n3KaaX6WSudl",
        "colab_type": "code",
        "colab": {
          "base_uri": "https://localhost:8080/",
          "height": 246
        },
        "outputId": "b27c02fe-b98c-49df-e3f7-77d65de1a617"
      },
      "cell_type": "code",
      "source": [
        "!pip install tflearn\n"
      ],
      "execution_count": 1,
      "outputs": [
        {
          "output_type": "stream",
          "text": [
            "Collecting tflearn\n",
            "\u001b[?25l  Downloading https://files.pythonhosted.org/packages/16/ec/e9ce1b52e71f6dff3bd944f020cef7140779e783ab27512ea7c7275ddee5/tflearn-0.3.2.tar.gz (98kB)\n",
            "\u001b[K    100% |████████████████████████████████| 102kB 4.8MB/s \n",
            "\u001b[?25hRequirement already satisfied: numpy in /usr/local/lib/python3.6/dist-packages (from tflearn) (1.14.3)\n",
            "Requirement already satisfied: six in /usr/local/lib/python3.6/dist-packages (from tflearn) (1.11.0)\n",
            "Requirement already satisfied: Pillow in /usr/local/lib/python3.6/dist-packages (from tflearn) (4.0.0)\n",
            "Requirement already satisfied: olefile in /usr/local/lib/python3.6/dist-packages (from Pillow->tflearn) (0.45.1)\n",
            "Building wheels for collected packages: tflearn\n",
            "  Running setup.py bdist_wheel for tflearn ... \u001b[?25l-\b \b\\\b \bdone\n",
            "\u001b[?25h  Stored in directory: /content/.cache/pip/wheels/d0/f6/69/0ef3ee395aac2e5d15d89efd29a9a216f3c27767b43b72c006\n",
            "Successfully built tflearn\n",
            "Installing collected packages: tflearn\n",
            "Successfully installed tflearn-0.3.2\n"
          ],
          "name": "stdout"
        }
      ]
    },
    {
      "metadata": {
        "id": "txbk67pBYzOj",
        "colab_type": "text"
      },
      "cell_type": "markdown",
      "source": [
        "### A Shallow Artificial Neural Network"
      ]
    },
    {
      "metadata": {
        "id": "EgEND0E1Wqg_",
        "colab_type": "text"
      },
      "cell_type": "markdown",
      "source": [
        "**Including the TFlearn library. This allows us to use deep learning functions from Google’s Tensorflow.**\n",
        "\n",
        "\n",
        "\n",
        "\n",
        "\n",
        "\n",
        "\n"
      ]
    },
    {
      "metadata": {
        "id": "XmhrwYvPUW1e",
        "colab_type": "code",
        "colab": {}
      },
      "cell_type": "code",
      "source": [
        "# 1. Import library of functions\n",
        "import tflearn"
      ],
      "execution_count": 0,
      "outputs": []
    },
    {
      "metadata": {
        "id": "mAUrud3BXLQ1",
        "colab_type": "text"
      },
      "cell_type": "markdown",
      "source": [
        "\n",
        "\n",
        "\n",
        "```\n",
        "Input (OR)\t\tOutput (Y_truth)\n",
        "0\t0 =\t        0\n",
        "0\t1 =       \t1\n",
        "1\t0 =\t        1\n",
        "1\t1 =\t        1\n",
        "```\n",
        "\n",
        "\n",
        "** This is the data from the table, stored in lists. The dot at the end of each number maps each integer into floats. It stores numbers with decimal values which make the calculations precise.**"
      ]
    },
    {
      "metadata": {
        "id": "Xo--2ssmUfAZ",
        "colab_type": "code",
        "colab": {}
      },
      "cell_type": "code",
      "source": [
        "# 2. Logical OR operator / the data\n",
        "OR = [[0., 0.], [0., 1.], [1., 0.], [1., 1.]]\n",
        "Y_truth = [[0.], [1.], [1.], [1.]]"
      ],
      "execution_count": 0,
      "outputs": []
    },
    {
      "metadata": {
        "id": "FyTwWOpNXsN-",
        "colab_type": "text"
      },
      "cell_type": "markdown",
      "source": [
        "\n",
        "\n",
        "```\n",
        "1.This is where we initialize the neural net and specify the dimension/shape of our input data. Every OR operator comes in a pair and so they has the shape of 2. None if a default value and represents the batch size.\n",
        "2.Our output layer. The activation function maps the output in the layer between an interval. In our case, we use a Sigmoid function that maps the value between 0 and 1. \n",
        "3.This function applies the regression. The optimizer chooses which algorithm to minimize the cost function. The learning rate decides how fast to modify the neural network, and the loss variable decides how to calculate the errors.\n",
        "```\n",
        "\n"
      ]
    },
    {
      "metadata": {
        "id": "ui-RGY1hVS6I",
        "colab_type": "code",
        "colab": {}
      },
      "cell_type": "code",
      "source": [
        "# 3. Building our neural network/layers of functions \n",
        "neural_net = tflearn.input_data(shape=[None, 2])\n",
        "neural_net = tflearn.fully_connected(neural_net, 1, activation='sigmoid')\n",
        "neural_net = tflearn.regression(neural_net, optimizer='sgd', learning_rate=2, loss='mean_square')"
      ],
      "execution_count": 0,
      "outputs": []
    },
    {
      "metadata": {
        "id": "AfYDklBHYea2",
        "colab_type": "text"
      },
      "cell_type": "markdown",
      "source": [
        "**Trains your neural network/model. You select your input data (OR) and the true labels (Y_truth). Epochs determines how many times to run all your data through your neural network. If you set snapshot=True it would validate the model after each epoch.**"
      ]
    },
    {
      "metadata": {
        "id": "1tVGEAEGVX7l",
        "colab_type": "code",
        "colab": {
          "base_uri": "https://localhost:8080/",
          "height": 52
        },
        "outputId": "839beaa3-be3a-420e-fc14-ef21e29a4c0a"
      },
      "cell_type": "code",
      "source": [
        "# 4. Train the neural network / Epochs\n",
        "model = tflearn.DNN(neural_net) #Selects which neural network to use. It’s also used to specify where to store the training logs\n",
        "model.fit(OR, Y_truth, n_epoch=2000, snapshot_epoch=False)"
      ],
      "execution_count": 5,
      "outputs": [
        {
          "output_type": "stream",
          "text": [
            "Training Step: 2000  | total loss: \u001b[1m\u001b[32m0.00129\u001b[0m\u001b[0m | time: 0.006s\n",
            "\u001b[2K\r| SGD | epoch: 2000 | loss: 0.00129 -- iter: 4/4\n"
          ],
          "name": "stdout"
        }
      ]
    },
    {
      "metadata": {
        "id": "CSgOQhzeYk0w",
        "colab_type": "text"
      },
      "cell_type": "markdown",
      "source": [
        "**Makes a prediction with your trained model. In our case, it returns the probability of returning True/1**"
      ]
    },
    {
      "metadata": {
        "id": "gsweGGgzVcTF",
        "colab_type": "code",
        "colab": {
          "base_uri": "https://localhost:8080/",
          "height": 105
        },
        "outputId": "00b5b00f-5adb-4ce8-d39b-e181f3728827"
      },
      "cell_type": "code",
      "source": [
        "# 5. Testing final prediction\n",
        "print(\"Testing OR operator\")\n",
        "print(\"0 or 0:\", model.predict([[0., 0.]]))\n",
        "print(\"0 or 1:\", model.predict([[0., 1.]]))\n",
        "print(\"1 or 0:\", model.predict([[1., 0.]]))\n",
        "print(\"1 or 1:\", model.predict([[1., 1.]]))"
      ],
      "execution_count": 7,
      "outputs": [
        {
          "output_type": "stream",
          "text": [
            "Testing OR operator\n",
            "0 or 0: [[0.05432117]]\n",
            "0 or 1: [[0.96653014]]\n",
            "1 or 0: [[0.9681358]]\n",
            "1 or 1: [[0.99993455]]\n"
          ],
          "name": "stdout"
        }
      ]
    },
    {
      "metadata": {
        "id": "FncCci6VWaEh",
        "colab_type": "code",
        "colab": {}
      },
      "cell_type": "code",
      "source": [
        ""
      ],
      "execution_count": 0,
      "outputs": []
    }
  ]
}